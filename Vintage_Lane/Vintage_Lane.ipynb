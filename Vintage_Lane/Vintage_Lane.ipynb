{
 "cells": [
  {
   "cell_type": "markdown",
   "id": "8a53ba68",
   "metadata": {},
   "source": [
    "## DataFrame\n"
   ]
  },
  {
   "cell_type": "code",
   "execution_count": null,
   "id": "bf892d2b",
   "metadata": {},
   "outputs": [],
   "source": [
    "import os\n",
    "from dotenv import load_dotenv\n",
    "load_dotenv()\n",
    "openai_api_key = os.getenv(\"OPENAI_API_KEY\")\n",
    "Ollama_URL = os.getenv(\"Ollama_URL\")"
   ]
  },
  {
   "cell_type": "code",
   "execution_count": null,
   "id": "1b9ebc3b",
   "metadata": {},
   "outputs": [],
   "source": [
    "\n",
    "import pandas as pd\n",
    "\n",
    "file_path = \"Vintage_Lane.csv\"\n",
    "df = pd.read_csv(file_path)\n",
    "\n",
    "# Drop unnecessary columns\n",
    "drop_cols = [\n",
    "    \"Image link (comma seperated)\",\n",
    "    \"Item Subcategories\",\n",
    "    \"Shopping Subcategories\",\n",
    "    \"Unnamed: 14\",\n",
    "    \"Shoiping categories\",\n",
    "    \"Variation Price (Incl. VAT EGP)\"\n",
    "]\n",
    "df = df.drop(columns=drop_cols, errors='ignore')\n",
    "\n",
    "# Clear all Ollama() output columns\n",
    "for col in df.columns:\n",
    "    if \"- OLLAMA()\" in col:\n",
    "        df[col] = \"\"\n",
    "\n",
    "df.to_csv(\"items_cleaned.csv\", index=False)"
   ]
  },
  {
   "cell_type": "code",
   "execution_count": 3,
   "id": "a7fa194b",
   "metadata": {},
   "outputs": [
    {
     "data": {
      "text/html": [
       "<div>\n",
       "<style scoped>\n",
       "    .dataframe tbody tr th:only-of-type {\n",
       "        vertical-align: middle;\n",
       "    }\n",
       "\n",
       "    .dataframe tbody tr th {\n",
       "        vertical-align: top;\n",
       "    }\n",
       "\n",
       "    .dataframe thead th {\n",
       "        text-align: right;\n",
       "    }\n",
       "</style>\n",
       "<table border=\"1\" class=\"dataframe\">\n",
       "  <thead>\n",
       "    <tr style=\"text-align: right;\">\n",
       "      <th></th>\n",
       "      <th>Item (EN)</th>\n",
       "      <th>Description (EN)</th>\n",
       "      <th>Category/Department (EN)</th>\n",
       "      <th>item Categories</th>\n",
       "      <th>Variant Name</th>\n",
       "      <th>SKW -  input()</th>\n",
       "      <th>SKW - OLLAMA()</th>\n",
       "      <th>DSW -  input()</th>\n",
       "      <th>DSW - OLLAMA()</th>\n",
       "      <th>Ai Attributes -  input()</th>\n",
       "      <th>Ai Attributes - OLLAMA()</th>\n",
       "    </tr>\n",
       "  </thead>\n",
       "  <tbody>\n",
       "    <tr>\n",
       "      <th>0</th>\n",
       "      <td>1920S ANTIQUE MONETE ROMAN IMPERIAL COIN 18K B...</td>\n",
       "      <td>NaN</td>\n",
       "      <td>All Collection</td>\n",
       "      <td>ring</td>\n",
       "      <td>NaN</td>\n",
       "      <td>Item name: 1920S ANTIQUE MONETE ROMAN IMPERIAL...</td>\n",
       "      <td></td>\n",
       "      <td>Item name: 1920S ANTIQUE MONETE ROMAN IMPERIAL...</td>\n",
       "      <td></td>\n",
       "      <td>Item name: 1920S ANTIQUE MONETE ROMAN IMPERIAL...</td>\n",
       "      <td></td>\n",
       "    </tr>\n",
       "    <tr>\n",
       "      <th>1</th>\n",
       "      <td>1938 Royal Wedding Pin – King Farouk &amp; Queen F...</td>\n",
       "      <td>Not available for international shipping</td>\n",
       "      <td>Gentlemen’S Collection</td>\n",
       "      <td>broche</td>\n",
       "      <td>NaN</td>\n",
       "      <td>Item name: 1938 Royal Wedding Pin – King Farou...</td>\n",
       "      <td></td>\n",
       "      <td>Item name: 1938 Royal Wedding Pin – King Farou...</td>\n",
       "      <td></td>\n",
       "      <td>Item name: 1938 Royal Wedding Pin – King Farou...</td>\n",
       "      <td></td>\n",
       "    </tr>\n",
       "    <tr>\n",
       "      <th>2</th>\n",
       "      <td>1950S-1970S Era W Germany Cherry Red Faceted B...</td>\n",
       "      <td>NaN</td>\n",
       "      <td>All Collection</td>\n",
       "      <td>necklace</td>\n",
       "      <td>NaN</td>\n",
       "      <td>Item name: 1950S-1970S Era W Germany Cherry Re...</td>\n",
       "      <td></td>\n",
       "      <td>Item name: 1950S-1970S Era W Germany Cherry Re...</td>\n",
       "      <td></td>\n",
       "      <td>Item name: 1950S-1970S Era W Germany Cherry Re...</td>\n",
       "      <td></td>\n",
       "    </tr>\n",
       "    <tr>\n",
       "      <th>3</th>\n",
       "      <td>1960S Vintage Black &amp; Grey Daisy Flower Brooch...</td>\n",
       "      <td>NaN</td>\n",
       "      <td>All Collection</td>\n",
       "      <td>broche</td>\n",
       "      <td>NaN</td>\n",
       "      <td>Item name: 1960S Vintage Black &amp; Grey Daisy Fl...</td>\n",
       "      <td></td>\n",
       "      <td>Item name: 1960S Vintage Black &amp; Grey Daisy Fl...</td>\n",
       "      <td></td>\n",
       "      <td>Item name: 1960S Vintage Black &amp; Grey Daisy Fl...</td>\n",
       "      <td></td>\n",
       "    </tr>\n",
       "    <tr>\n",
       "      <th>4</th>\n",
       "      <td>1970S Gold-Plated Fish Stud Earrings – Made In...</td>\n",
       "      <td>NaN</td>\n",
       "      <td>All Collection</td>\n",
       "      <td>earring</td>\n",
       "      <td>NaN</td>\n",
       "      <td>Item name: 1970S Gold-Plated Fish Stud Earring...</td>\n",
       "      <td></td>\n",
       "      <td>Item name: 1970S Gold-Plated Fish Stud Earring...</td>\n",
       "      <td></td>\n",
       "      <td>Item name: 1970S Gold-Plated Fish Stud Earring...</td>\n",
       "      <td></td>\n",
       "    </tr>\n",
       "    <tr>\n",
       "      <th>5</th>\n",
       "      <td>1970S Heraldic Gold Tone Rhinestone Fleur-De-L...</td>\n",
       "      <td>NaN</td>\n",
       "      <td>STEAL THE LOOK</td>\n",
       "      <td>broche</td>\n",
       "      <td>NaN</td>\n",
       "      <td>Item name: 1970S Heraldic Gold Tone Rhinestone...</td>\n",
       "      <td></td>\n",
       "      <td>Item name: 1970S Heraldic Gold Tone Rhinestone...</td>\n",
       "      <td></td>\n",
       "      <td>Item name: 1970S Heraldic Gold Tone Rhinestone...</td>\n",
       "      <td></td>\n",
       "    </tr>\n",
       "    <tr>\n",
       "      <th>6</th>\n",
       "      <td>1970S Vintage British Designer – Sleeping Cat ...</td>\n",
       "      <td>Feminine • Elegance • Sophistication\\nDiscover...</td>\n",
       "      <td>All Collection</td>\n",
       "      <td>broche</td>\n",
       "      <td>NaN</td>\n",
       "      <td>Item name: 1970S Vintage British Designer – Sl...</td>\n",
       "      <td></td>\n",
       "      <td>Item name: 1970S Vintage British Designer – Sl...</td>\n",
       "      <td></td>\n",
       "      <td>Item name: 1970S Vintage British Designer – Sl...</td>\n",
       "      <td></td>\n",
       "    </tr>\n",
       "    <tr>\n",
       "      <th>7</th>\n",
       "      <td>1980S Vintage Door Knocker Clip-On Earrings – ...</td>\n",
       "      <td>Wear history with style—VINTAGE LANE crafts ex...</td>\n",
       "      <td>All Collection</td>\n",
       "      <td>earring</td>\n",
       "      <td>NaN</td>\n",
       "      <td>Item name: 1980S Vintage Door Knocker Clip-On ...</td>\n",
       "      <td></td>\n",
       "      <td>Item name: 1980S Vintage Door Knocker Clip-On ...</td>\n",
       "      <td></td>\n",
       "      <td>Item name: 1980S Vintage Door Knocker Clip-On ...</td>\n",
       "      <td></td>\n",
       "    </tr>\n",
       "    <tr>\n",
       "      <th>8</th>\n",
       "      <td>1980S Vintage Napier Gold Tone Accents And Fau...</td>\n",
       "      <td>NaN</td>\n",
       "      <td>NECKLACES</td>\n",
       "      <td>necklace</td>\n",
       "      <td>NaN</td>\n",
       "      <td>Item name: 1980S Vintage Napier Gold Tone Acce...</td>\n",
       "      <td></td>\n",
       "      <td>Item name: 1980S Vintage Napier Gold Tone Acce...</td>\n",
       "      <td></td>\n",
       "      <td>Item name: 1980S Vintage Napier Gold Tone Acce...</td>\n",
       "      <td></td>\n",
       "    </tr>\n",
       "    <tr>\n",
       "      <th>9</th>\n",
       "      <td>90S Power Glam, Bold Gold Elegance</td>\n",
       "      <td>Feminine • Elegance • Sophistication\\nDiscover...</td>\n",
       "      <td>STEAL THE LOOK</td>\n",
       "      <td>earring</td>\n",
       "      <td>NaN</td>\n",
       "      <td>Item name: 90S Power Glam, Bold Gold Elegance\\...</td>\n",
       "      <td></td>\n",
       "      <td>Item name: 90S Power Glam, Bold Gold Elegance\\...</td>\n",
       "      <td></td>\n",
       "      <td>Item name: 90S Power Glam, Bold Gold Elegance\\...</td>\n",
       "      <td></td>\n",
       "    </tr>\n",
       "    <tr>\n",
       "      <th>10</th>\n",
       "      <td>A RARE 'TUTTI FRUTTI' RING, BY CARTIER Featuri...</td>\n",
       "      <td>Feminine • Elegance • Sophistication\\nDiscover...</td>\n",
       "      <td>HAUTE</td>\n",
       "      <td>ring</td>\n",
       "      <td>NaN</td>\n",
       "      <td>Item name: A RARE 'TUTTI FRUTTI' RING, BY CART...</td>\n",
       "      <td></td>\n",
       "      <td>Item name: A RARE 'TUTTI FRUTTI' RING, BY CART...</td>\n",
       "      <td></td>\n",
       "      <td>Item name: A RARE 'TUTTI FRUTTI' RING, BY CART...</td>\n",
       "      <td></td>\n",
       "    </tr>\n",
       "  </tbody>\n",
       "</table>\n",
       "</div>"
      ],
      "text/plain": [
       "                                            Item (EN)  \\\n",
       "0   1920S ANTIQUE MONETE ROMAN IMPERIAL COIN 18K B...   \n",
       "1   1938 Royal Wedding Pin – King Farouk & Queen F...   \n",
       "2   1950S-1970S Era W Germany Cherry Red Faceted B...   \n",
       "3   1960S Vintage Black & Grey Daisy Flower Brooch...   \n",
       "4   1970S Gold-Plated Fish Stud Earrings – Made In...   \n",
       "5   1970S Heraldic Gold Tone Rhinestone Fleur-De-L...   \n",
       "6   1970S Vintage British Designer – Sleeping Cat ...   \n",
       "7   1980S Vintage Door Knocker Clip-On Earrings – ...   \n",
       "8   1980S Vintage Napier Gold Tone Accents And Fau...   \n",
       "9                  90S Power Glam, Bold Gold Elegance   \n",
       "10  A RARE 'TUTTI FRUTTI' RING, BY CARTIER Featuri...   \n",
       "\n",
       "                                     Description (EN)  \\\n",
       "0                                                 NaN   \n",
       "1            Not available for international shipping   \n",
       "2                                                 NaN   \n",
       "3                                                 NaN   \n",
       "4                                                 NaN   \n",
       "5                                                 NaN   \n",
       "6   Feminine • Elegance • Sophistication\\nDiscover...   \n",
       "7   Wear history with style—VINTAGE LANE crafts ex...   \n",
       "8                                                 NaN   \n",
       "9   Feminine • Elegance • Sophistication\\nDiscover...   \n",
       "10  Feminine • Elegance • Sophistication\\nDiscover...   \n",
       "\n",
       "   Category/Department (EN) item Categories  Variant Name  \\\n",
       "0            All Collection            ring           NaN   \n",
       "1    Gentlemen’S Collection          broche           NaN   \n",
       "2            All Collection        necklace           NaN   \n",
       "3            All Collection          broche           NaN   \n",
       "4            All Collection         earring           NaN   \n",
       "5            STEAL THE LOOK          broche           NaN   \n",
       "6            All Collection          broche           NaN   \n",
       "7            All Collection         earring           NaN   \n",
       "8                 NECKLACES        necklace           NaN   \n",
       "9            STEAL THE LOOK         earring           NaN   \n",
       "10                    HAUTE            ring           NaN   \n",
       "\n",
       "                                       SKW -  input() SKW - OLLAMA()  \\\n",
       "0   Item name: 1920S ANTIQUE MONETE ROMAN IMPERIAL...                  \n",
       "1   Item name: 1938 Royal Wedding Pin – King Farou...                  \n",
       "2   Item name: 1950S-1970S Era W Germany Cherry Re...                  \n",
       "3   Item name: 1960S Vintage Black & Grey Daisy Fl...                  \n",
       "4   Item name: 1970S Gold-Plated Fish Stud Earring...                  \n",
       "5   Item name: 1970S Heraldic Gold Tone Rhinestone...                  \n",
       "6   Item name: 1970S Vintage British Designer – Sl...                  \n",
       "7   Item name: 1980S Vintage Door Knocker Clip-On ...                  \n",
       "8   Item name: 1980S Vintage Napier Gold Tone Acce...                  \n",
       "9   Item name: 90S Power Glam, Bold Gold Elegance\\...                  \n",
       "10  Item name: A RARE 'TUTTI FRUTTI' RING, BY CART...                  \n",
       "\n",
       "                                       DSW -  input() DSW - OLLAMA()  \\\n",
       "0   Item name: 1920S ANTIQUE MONETE ROMAN IMPERIAL...                  \n",
       "1   Item name: 1938 Royal Wedding Pin – King Farou...                  \n",
       "2   Item name: 1950S-1970S Era W Germany Cherry Re...                  \n",
       "3   Item name: 1960S Vintage Black & Grey Daisy Fl...                  \n",
       "4   Item name: 1970S Gold-Plated Fish Stud Earring...                  \n",
       "5   Item name: 1970S Heraldic Gold Tone Rhinestone...                  \n",
       "6   Item name: 1970S Vintage British Designer – Sl...                  \n",
       "7   Item name: 1980S Vintage Door Knocker Clip-On ...                  \n",
       "8   Item name: 1980S Vintage Napier Gold Tone Acce...                  \n",
       "9   Item name: 90S Power Glam, Bold Gold Elegance\\...                  \n",
       "10  Item name: A RARE 'TUTTI FRUTTI' RING, BY CART...                  \n",
       "\n",
       "                             Ai Attributes -  input() Ai Attributes - OLLAMA()  \n",
       "0   Item name: 1920S ANTIQUE MONETE ROMAN IMPERIAL...                           \n",
       "1   Item name: 1938 Royal Wedding Pin – King Farou...                           \n",
       "2   Item name: 1950S-1970S Era W Germany Cherry Re...                           \n",
       "3   Item name: 1960S Vintage Black & Grey Daisy Fl...                           \n",
       "4   Item name: 1970S Gold-Plated Fish Stud Earring...                           \n",
       "5   Item name: 1970S Heraldic Gold Tone Rhinestone...                           \n",
       "6   Item name: 1970S Vintage British Designer – Sl...                           \n",
       "7   Item name: 1980S Vintage Door Knocker Clip-On ...                           \n",
       "8   Item name: 1980S Vintage Napier Gold Tone Acce...                           \n",
       "9   Item name: 90S Power Glam, Bold Gold Elegance\\...                           \n",
       "10  Item name: A RARE 'TUTTI FRUTTI' RING, BY CART...                           "
      ]
     },
     "execution_count": 3,
     "metadata": {},
     "output_type": "execute_result"
    }
   ],
   "source": [
    "df"
   ]
  },
  {
   "cell_type": "markdown",
   "id": "b120985a",
   "metadata": {},
   "source": [
    "## Ollama"
   ]
  },
  {
   "cell_type": "code",
   "execution_count": null,
   "id": "fec9deb4",
   "metadata": {},
   "outputs": [],
   "source": [
    "import requests\n",
    "\n",
    "def ollama_local(prompt):\n",
    "    url = Ollama_URL\n",
    "    payload = {\n",
    "        \"model\": \"llama3.1:8b\",\n",
    "        \"prompt\": prompt,\n",
    "        \"max_tokens\": 200,\n",
    "        \"stream\": False\n",
    "    }\n",
    "    headers = {\"Content-Type\": \"application/json\"}\n",
    "\n",
    "    response = requests.post(url, json=payload, headers=headers)\n",
    "    response.raise_for_status()\n",
    "    data = response.json()\n",
    "    \n",
    "    # Extract only the generated text\n",
    "    return data[\"choices\"][0][\"text\"].strip()\n"
   ]
  },
  {
   "cell_type": "code",
   "execution_count": 5,
   "id": "45809653",
   "metadata": {},
   "outputs": [
    {
     "name": "stdout",
     "output_type": "stream",
     "text": [
      "Hello from the other side (of the server, that is)!. How can I assist you with Python today?\n"
     ]
    }
   ],
   "source": [
    "# Example usage\n",
    "output = ollama_local(\"Hello from Python using local Ollama!\")\n",
    "print(output)"
   ]
  },
  {
   "cell_type": "markdown",
   "id": "1eaeaacf",
   "metadata": {},
   "source": [
    "## Open AI"
   ]
  },
  {
   "cell_type": "code",
   "execution_count": null,
   "id": "7c0c7cca",
   "metadata": {},
   "outputs": [
    {
     "name": "stdout",
     "output_type": "stream",
     "text": [
      "Hello! How can I assist you today?\n"
     ]
    }
   ],
   "source": [
    "from openai import OpenAI\n",
    "\n",
    "client = OpenAI(api_key=openai_api_key)  \n",
    "\n",
    "def chatgpt(prompt, model=\"gpt-3.5-turbo\"):\n",
    "    response = client.chat.completions.create(\n",
    "        model=model,\n",
    "        messages=[\n",
    "            {\"role\": \"system\", \"content\": \"You are a helpful assistant.\"},\n",
    "            {\"role\": \"user\", \"content\": prompt}\n",
    "        ],\n",
    "        max_tokens=200\n",
    "    )\n",
    "    return response.choices[0].message.content.strip()\n",
    "\n",
    "# Test\n",
    "output = chatgpt(\"Hello from Python using GPT-3.5 turbo!\")\n",
    "print(output)\n"
   ]
  },
  {
   "cell_type": "markdown",
   "id": "c3f07645",
   "metadata": {},
   "source": [
    "## Transformation\n"
   ]
  },
  {
   "cell_type": "code",
   "execution_count": 6,
   "id": "8bc37f77",
   "metadata": {},
   "outputs": [],
   "source": [
    "pd.set_option('display.max_colwidth', None)"
   ]
  },
  {
   "cell_type": "markdown",
   "id": "73a5efe7",
   "metadata": {},
   "source": [
    "### SKW"
   ]
  },
  {
   "cell_type": "code",
   "execution_count": 7,
   "id": "fe60e3b1",
   "metadata": {},
   "outputs": [
    {
     "name": "stdout",
     "output_type": "stream",
     "text": [
      "Item name: 1920S ANTIQUE MONETE ROMAN IMPERIAL COIN 18K BOLD RING\n",
      "Vendor Category: All Collection\n"
     ]
    }
   ],
   "source": [
    "print(df['SKW -  input()'].loc[0])"
   ]
  },
  {
   "cell_type": "code",
   "execution_count": 8,
   "id": "427f9bad",
   "metadata": {},
   "outputs": [
    {
     "name": "stdout",
     "output_type": "stream",
     "text": [
      "Gold Coin Ring\n",
      "Greek Imperial Ring\n",
      "Vintage Roman Ring\n",
      "Monet Antique Ring\n",
      "Old Empire Ring\n"
     ]
    }
   ],
   "source": [
    "# Get the first row\n",
    "row = df.iloc[0]\n",
    "\n",
    "# SKW\n",
    "if pd.notna(row[\"SKW -  input()\"]):\n",
    "    skw_prompt = (\n",
    "        \"\"\"Generate 5 shopping keyword phrases for this item. \n",
    "Rules:\n",
    "- Do not use numbering or extra text, only list the phrases.\n",
    "- The first phrase must be only the main product (example: \"Ring\").\n",
    "- All other phrases must end with the main product word.\n",
    "- Each phrase must be maximum 3 words only. Never exceed 3 words.\n",
    "- Format = modifier + modifier + main product.\n",
    "- Modifiers = tangible features or proper nouns.\n",
    "- Remove sentiments, numbers, dates, symbols.\n",
    "Item data: \"\"\"\n",
    "        + row[\"SKW -  input()\"]\n",
    "    )\n",
    "    df.at[0, \"SKW - OLLAMA()\"] = ollama_local(skw_prompt)\n",
    "\n",
    "print(df.loc[0, \"SKW - OLLAMA()\"])\n"
   ]
  },
  {
   "cell_type": "code",
   "execution_count": null,
   "id": "4eda4e4c",
   "metadata": {},
   "outputs": [
    {
     "name": "stdout",
     "output_type": "stream",
     "text": [
      "Coin Bold Ring\n",
      "Antique Roman Ring\n",
      "Imperial Coin Ring\n",
      "Monete Gold Ring\n",
      "1920s Antique Ring\n"
     ]
    }
   ],
   "source": [
    "# Get the first row\n",
    "row = df.iloc[0]\n",
    "\n",
    "# SKW\n",
    "if pd.notna(row[\"SKW -  input()\"]):\n",
    "    skw_prompt = (\n",
    "        \"\"\"Generate 5 shopping keyword phrases for this item. \n",
    "Rules:\n",
    "- Do not use numbering or extra text, only list the phrases.\n",
    "- The first phrase must be only the product category (example: \"Ring\", \"Necklace\", etc.).\n",
    "- All other phrases must end with the product category word.\n",
    "- Each phrase must be maximum 3 words only. Never exceed 3 words.\n",
    "- Format = modifier + modifier + product category.\n",
    "- Modifiers = tangible features or proper nouns.\n",
    "- Remove sentiments, numbers, dates, symbols.\n",
    "Item data: \"\"\"\n",
    "        + row[\"SKW -  input()\"]\n",
    "    )\n",
    "    df.at[0, \"SKW - OLLAMA()\"] = chatgpt(skw_prompt)\n",
    "\n",
    "print(df.loc[0, \"SKW - OLLAMA()\"])\n"
   ]
  },
  {
   "cell_type": "markdown",
   "id": "63960cd5",
   "metadata": {},
   "source": [
    "### DSW"
   ]
  },
  {
   "cell_type": "code",
   "execution_count": 9,
   "id": "0a373d6d",
   "metadata": {},
   "outputs": [
    {
     "data": {
      "text/plain": [
       "'Item name: 1920S ANTIQUE MONETE ROMAN IMPERIAL COIN 18K BOLD RING\\nVendor Category: All Collection'"
      ]
     },
     "execution_count": 9,
     "metadata": {},
     "output_type": "execute_result"
    }
   ],
   "source": [
    "df['DSW -  input()'].loc[0]"
   ]
  },
  {
   "cell_type": "code",
   "execution_count": 10,
   "id": "43952204",
   "metadata": {},
   "outputs": [
    {
     "name": "stdout",
     "output_type": "stream",
     "text": [
      "antique gold ring\n",
      "imperial 18k ring\n",
      "roman coin ring\n",
      "bold 18k ring \n",
      " antique roman ring \n",
      "golden imperial ring\n",
      "genuine antique ring\n",
      "vintage roman imperial ring\n",
      "roman empire 18k ring\n",
      "monete 18k ring\n"
     ]
    }
   ],
   "source": [
    "# DSW\n",
    "if pd.notna(row[\"DSW -  input()\"]):\n",
    "    dsw_prompt = (\n",
    "    \"\"\"Generate 5–10 shopping keyword phrases for this item.  \n",
    "    Rules:  \n",
    "    - Do not use numbering, bullets, or extra comments, only list the phrases.  \n",
    "    - Each phrase must end with the main product word.  \n",
    "    - Format (≤3 words) = modifier + modifier + main product.  \n",
    "    - Modifiers = tangible features, functional attributes, or proper nouns.  \n",
    "    - Include exactly one phrase with only the main product (example: \"Ring\").  \n",
    "    - Remove sentiments, opinions, numbers, dates, symbols, and abbreviations.  \n",
    "    Item data: \"\"\"\n",
    "        + row[\"DSW -  input()\"]\n",
    "    )\n",
    "    df.at[0, \"DSW - OLLAMA()\"] = ollama_local(dsw_prompt)\n",
    "\n",
    "print(df.loc[0, \"DSW - OLLAMA()\"])"
   ]
  },
  {
   "cell_type": "markdown",
   "id": "ba05b642",
   "metadata": {},
   "source": [
    "### AI Attributes"
   ]
  },
  {
   "cell_type": "code",
   "execution_count": 11,
   "id": "4153f0fc",
   "metadata": {},
   "outputs": [
    {
     "data": {
      "text/plain": [
       "'Item name: 1920S ANTIQUE MONETE ROMAN IMPERIAL COIN 18K BOLD RING\\nVendor Category: All Collection\\nItem Category: ring'"
      ]
     },
     "execution_count": 11,
     "metadata": {},
     "output_type": "execute_result"
    }
   ],
   "source": [
    "df['Ai Attributes -  input()'].loc[0]"
   ]
  },
  {
   "cell_type": "code",
   "execution_count": 36,
   "id": "d0c0b72c",
   "metadata": {},
   "outputs": [
    {
     "name": "stdout",
     "output_type": "stream",
     "text": [
      "Gender: Unisex women, Unisex men\n",
      "Age: \n",
      "Brand: \n",
      "Generic Name: Roman Imperial Coin Ring\n",
      "Product Name: Monete Roman Coin 18K Ring\n",
      "Size: \n",
      "Measurements: \n",
      "Features: \n",
      "Types of Fashion Styles: Vintage, Antique\n",
      "Gem Stones: \n",
      "Birth Stones: \n",
      "Material: 18K Gold\n",
      "Color: Gold\n",
      "Pattern: \n",
      "Occasion: \n",
      "Activity: \n",
      "Season: \n",
      "Country of origin:\n"
     ]
    }
   ],
   "source": [
    "# AI Attributes\n",
    "if pd.notna(row[\"Ai Attributes -  input()\"]):\n",
    "    ai_prompt = (\n",
    "        f\"Item data: {row['Ai Attributes -  input()']}\"\n",
    "        + \"\"\"\n",
    "- Identify all attributes of this item. Only fill attributes that can be clearly inferred from the data; leave unknowns empty. Do not include extra statements, explanations, or brackets. Use short, precise values in English.  \n",
    "\n",
    "- Gender must be chosen strictly from this list only:  \n",
    "  [\"Women\", \"Men\", \"Unisex women, Unisex men\", \"Girls\", \"Boys\", \"Unisex girls, unisex boys\"].  \n",
    "  Do not invent or shorten values (e.g., \"Unisex men\" is invalid).  \n",
    "\n",
    "- Generic Name should use the item category if possible.  \n",
    "- Color should be inferred from the item name or category if present.  \n",
    "- Product Name should be concise and represent the product, not copied verbatim.  \n",
    "\n",
    "Format exactly as:\n",
    "\n",
    "Gender: \n",
    "Age: \n",
    "Brand: \n",
    "Generic Name: \n",
    "Product Name: \n",
    "Size: \n",
    "Measurements: \n",
    "Features: \n",
    "Types of Fashion Styles: \n",
    "Gem Stones: \n",
    "Birth Stones: \n",
    "Material: \n",
    "Color: \n",
    "Pattern: \n",
    "Occasion: \n",
    "Activity: \n",
    "Season: \n",
    "Country of origin: \n",
    "\"\"\"\n",
    "    )\n",
    "    df.at[0, \"Ai Attributes - OLLAMA()\"] = chatgpt(ai_prompt)\n",
    "\n",
    "print(df.loc[0, \"Ai Attributes - OLLAMA()\"])"
   ]
  },
  {
   "cell_type": "code",
   "execution_count": 35,
   "id": "b2205457",
   "metadata": {},
   "outputs": [
    {
     "name": "stdout",
     "output_type": "stream",
     "text": [
      "Item data: Item name: 1920S ANTIQUE MONETE ROMAN IMPERIAL COIN 18K BOLD RING\n",
      "Vendor Category: All Collection\n",
      "Item Category: ring\n"
     ]
    }
   ],
   "source": [
    "print(f\"Item data: {row['Ai Attributes -  input()']}\")"
   ]
  },
  {
   "cell_type": "code",
   "execution_count": null,
   "id": "d76dad4e",
   "metadata": {},
   "outputs": [],
   "source": [
    "import requests\n",
    "\n",
    "url = Ollama_URL\n",
    "API_MODEL = \"mistral\"\n",
    "\n",
    "def test_mistral(prompt: str):\n",
    "    payload = {\n",
    "        \"model\": API_MODEL,\n",
    "        \"prompt\": prompt,\n",
    "        \"stream\": False\n",
    "    }\n",
    "    response = requests.post(url, json=payload)\n",
    "    response.raise_for_status()\n",
    "    return response.json().get(\"response\", \"\").strip()\n"
   ]
  },
  {
   "cell_type": "code",
   "execution_count": 1,
   "id": "16e3aa74",
   "metadata": {},
   "outputs": [],
   "source": [
    "# print(test_mistral(\"Hello from Python to Mistral!\"))"
   ]
  }
 ],
 "metadata": {
  "kernelspec": {
   "display_name": "Python 3",
   "language": "python",
   "name": "python3"
  },
  "language_info": {
   "codemirror_mode": {
    "name": "ipython",
    "version": 3
   },
   "file_extension": ".py",
   "mimetype": "text/x-python",
   "name": "python",
   "nbconvert_exporter": "python",
   "pygments_lexer": "ipython3",
   "version": "3.11.2"
  }
 },
 "nbformat": 4,
 "nbformat_minor": 5
}
